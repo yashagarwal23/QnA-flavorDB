{
 "cells": [
  {
   "cell_type": "code",
   "execution_count": 1,
   "metadata": {},
   "outputs": [],
   "source": [
    "import pandas as pd\n",
    "import os\n",
    "import numpy as np"
   ]
  },
  {
   "cell_type": "code",
   "execution_count": 2,
   "metadata": {},
   "outputs": [],
   "source": [
    "data_folder = \"data\""
   ]
  },
  {
   "cell_type": "code",
   "execution_count": 19,
   "metadata": {},
   "outputs": [
    {
     "name": "stdout",
     "output_type": "stream",
     "text": [
      "25595\n"
     ]
    }
   ],
   "source": [
    "molecules_df = pd.read_csv(os.path.join(data_folder, \"fdb_molecules.csv\"))\n",
    "molecules_df.head()\n",
    "print(len(molecules_df))"
   ]
  },
  {
   "cell_type": "code",
   "execution_count": 20,
   "metadata": {},
   "outputs": [
    {
     "data": {
      "text/plain": [
       "pubchem_id                               0\n",
       "iupac_name                             549\n",
       "common_name                              0\n",
       "smile                                    0\n",
       "molecular_weight                     25595\n",
       "hbd_count                                0\n",
       "hba_count                                0\n",
       "num_rotatablebonds                       0\n",
       "complexity                           25595\n",
       "topological_polor_surfacearea        25595\n",
       "monoisotopic_mass                    25595\n",
       "exact_mass                           25595\n",
       "xlogp                                25595\n",
       "charge                                   0\n",
       "heavy_atom_count                         0\n",
       "atom_stereo_count                        0\n",
       "defined_atom_stereocenter_count          0\n",
       "undefined_atom_stereocenter_count        0\n",
       "bond_stereo_count                        0\n",
       "defined_bond_stereocenter_count          0\n",
       "undefined_bond_stereocenter_count        0\n",
       "isotope_atom_count                       0\n",
       "covalently_bonded_unit_count             0\n",
       "cas_id                               20637\n",
       "fema_number                          23475\n",
       "fema_flavor_profile                  23787\n",
       "odor                                 25051\n",
       "taste                                25180\n",
       "functional_groups                       52\n",
       "inchi                                    0\n",
       "volume3d                             25595\n",
       "fooddb_flavor_profile                22914\n",
       "super_sweet                           3615\n",
       "bitter                                   0\n",
       "supersweetdb_id                      25595\n",
       "bitterdb_id                          25595\n",
       "fooddb_id                            22914\n",
       "flavornet_id                             0\n",
       "fenoroli_and_os                          0\n",
       "natural                                  0\n",
       "unknown_natural                          0\n",
       "synthetic                                0\n",
       "flavor_profile                         489\n",
       "dtype: int64"
      ]
     },
     "execution_count": 20,
     "metadata": {},
     "output_type": "execute_result"
    }
   ],
   "source": [
    "x = molecules_df.applymap(lambda x : type(x) == float)\n",
    "x.sum(0)"
   ]
  },
  {
   "cell_type": "code",
   "execution_count": 3,
   "metadata": {},
   "outputs": [
    {
     "name": "stdout",
     "output_type": "stream",
     "text": [
      "936\n"
     ]
    }
   ],
   "source": [
    "entities_df = pd.read_csv(os.path.join(data_folder, \"fdb_entities.csv\"))\n",
    "entities_df.head()\n",
    "print(len(entities_df))"
   ]
  },
  {
   "cell_type": "code",
   "execution_count": 4,
   "metadata": {},
   "outputs": [
    {
     "data": {
      "text/plain": [
       "entity_id                  0\n",
       "category                   0\n",
       "category_readable          0\n",
       "entity_alias             530\n",
       "entity_alias_basket      530\n",
       "entity_alias_readable      0\n",
       "entity_alias_synonyms    147\n",
       "entity_alias_url          11\n",
       "natural_source_name      123\n",
       "natural_source_url       120\n",
       "dtype: int64"
      ]
     },
     "execution_count": 4,
     "metadata": {},
     "output_type": "execute_result"
    }
   ],
   "source": [
    "x = entities_df.applymap(lambda x : type(x) == float)\n",
    "x.sum(0)"
   ]
  },
  {
   "cell_type": "code",
   "execution_count": null,
   "metadata": {},
   "outputs": [],
   "source": []
  }
 ],
 "metadata": {
  "kernelspec": {
   "display_name": "Python 3",
   "language": "python",
   "name": "python3"
  },
  "language_info": {
   "codemirror_mode": {
    "name": "ipython",
    "version": 3
   },
   "file_extension": ".py",
   "mimetype": "text/x-python",
   "name": "python",
   "nbconvert_exporter": "python",
   "pygments_lexer": "ipython3",
   "version": "3.7.6"
  }
 },
 "nbformat": 4,
 "nbformat_minor": 4
}
